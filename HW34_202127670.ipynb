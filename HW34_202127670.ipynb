{
  "nbformat": 4,
  "nbformat_minor": 0,
  "metadata": {
    "colab": {
      "provenance": []
    },
    "kernelspec": {
      "name": "python3",
      "display_name": "Python 3"
    },
    "language_info": {
      "name": "python"
    }
  },
  "cells": [
    {
      "cell_type": "markdown",
      "source": [
        "# **HW3**"
      ],
      "metadata": {
        "id": "85VWb6fKUWfJ"
      }
    },
    {
      "cell_type": "code",
      "execution_count": 1,
      "metadata": {
        "colab": {
          "base_uri": "https://localhost:8080/"
        },
        "id": "2Gv5B1yET9uv",
        "outputId": "823f61c9-9fbf-4bc4-c730-eda13a9fd2ed"
      },
      "outputs": [
        {
          "output_type": "stream",
          "name": "stdout",
          "text": [
            "Looking in indexes: https://pypi.org/simple, https://us-python.pkg.dev/colab-wheels/public/simple/\n",
            "Collecting yfinance\n",
            "  Downloading yfinance-0.1.94-py2.py3-none-any.whl (31 kB)\n",
            "Requirement already satisfied: numpy>=1.16.5 in /usr/local/lib/python3.8/dist-packages (from yfinance) (1.21.6)\n",
            "Collecting cryptography>=3.3.2\n",
            "  Downloading cryptography-38.0.4-cp36-abi3-manylinux_2_24_x86_64.whl (4.0 MB)\n",
            "\u001b[K     |████████████████████████████████| 4.0 MB 8.5 MB/s \n",
            "\u001b[?25hCollecting requests>=2.26\n",
            "  Downloading requests-2.28.1-py3-none-any.whl (62 kB)\n",
            "\u001b[K     |████████████████████████████████| 62 kB 1.3 MB/s \n",
            "\u001b[?25hRequirement already satisfied: multitasking>=0.0.7 in /usr/local/lib/python3.8/dist-packages (from yfinance) (0.0.11)\n",
            "Requirement already satisfied: pandas>=1.3.0 in /usr/local/lib/python3.8/dist-packages (from yfinance) (1.3.5)\n",
            "Requirement already satisfied: appdirs>=1.4.4 in /usr/local/lib/python3.8/dist-packages (from yfinance) (1.4.4)\n",
            "Requirement already satisfied: lxml>=4.9.1 in /usr/local/lib/python3.8/dist-packages (from yfinance) (4.9.2)\n",
            "Requirement already satisfied: cffi>=1.12 in /usr/local/lib/python3.8/dist-packages (from cryptography>=3.3.2->yfinance) (1.15.1)\n",
            "Requirement already satisfied: pycparser in /usr/local/lib/python3.8/dist-packages (from cffi>=1.12->cryptography>=3.3.2->yfinance) (2.21)\n",
            "Requirement already satisfied: pytz>=2017.3 in /usr/local/lib/python3.8/dist-packages (from pandas>=1.3.0->yfinance) (2022.6)\n",
            "Requirement already satisfied: python-dateutil>=2.7.3 in /usr/local/lib/python3.8/dist-packages (from pandas>=1.3.0->yfinance) (2.8.2)\n",
            "Requirement already satisfied: six>=1.5 in /usr/local/lib/python3.8/dist-packages (from python-dateutil>=2.7.3->pandas>=1.3.0->yfinance) (1.15.0)\n",
            "Requirement already satisfied: urllib3<1.27,>=1.21.1 in /usr/local/lib/python3.8/dist-packages (from requests>=2.26->yfinance) (1.24.3)\n",
            "Requirement already satisfied: certifi>=2017.4.17 in /usr/local/lib/python3.8/dist-packages (from requests>=2.26->yfinance) (2022.12.7)\n",
            "Requirement already satisfied: charset-normalizer<3,>=2 in /usr/local/lib/python3.8/dist-packages (from requests>=2.26->yfinance) (2.1.1)\n",
            "Requirement already satisfied: idna<4,>=2.5 in /usr/local/lib/python3.8/dist-packages (from requests>=2.26->yfinance) (2.10)\n",
            "Installing collected packages: requests, cryptography, yfinance\n",
            "  Attempting uninstall: requests\n",
            "    Found existing installation: requests 2.23.0\n",
            "    Uninstalling requests-2.23.0:\n",
            "      Successfully uninstalled requests-2.23.0\n",
            "Successfully installed cryptography-38.0.4 requests-2.28.1 yfinance-0.1.94\n"
          ]
        }
      ],
      "source": [
        "!pip install yfinance\n",
        "import yfinance as yf\n",
        "import numpy as np\n",
        "import pandas as pd"
      ]
    },
    {
      "cell_type": "code",
      "source": [
        "N_PORTFOLIOS = 10 ** 5 \n",
        "N_DAYS = 252 \n",
        "\n",
        "# 3개의 기업 \n",
        "RISKY_ASSETS = ['AAPL', 'IBM', 'MSFT']\n",
        "RISKY_ASSETS.sort()\n",
        "\n",
        "# 기간 설정\n",
        "START_DATE = '2018-01-01'\n",
        "END_DATE = '2018-12-31'\n",
        "\n",
        "n_assets = len(RISKY_ASSETS)"
      ],
      "metadata": {
        "id": "zatqhAn_T_Yt"
      },
      "execution_count": 2,
      "outputs": []
    },
    {
      "cell_type": "code",
      "source": [
        "prices_df = yf.download(RISKY_ASSETS, start=START_DATE, \n",
        "                        end=END_DATE, adjusted=True)\n",
        "print(f'Downloaded {prices_df.shape[0]} rows of data.')"
      ],
      "metadata": {
        "colab": {
          "base_uri": "https://localhost:8080/"
        },
        "id": "iAgCrw3UUA6r",
        "outputId": "83dc3778-89c7-43a7-ca22-c5e946807fb6"
      },
      "execution_count": 3,
      "outputs": [
        {
          "output_type": "stream",
          "name": "stdout",
          "text": [
            "[*********************100%***********************]  3 of 3 completed\n",
            "Downloaded 250 rows of data.\n"
          ]
        }
      ]
    },
    {
      "cell_type": "code",
      "source": [
        "returns_df = prices_df['Adj Close'].pct_change().dropna()\n",
        "\n",
        "avg_returns = returns_df.mean() * N_DAYS  # 연평균수익률\n",
        "cov_mat = returns_df.cov() * N_DAYS"
      ],
      "metadata": {
        "id": "Mjdfa0R-UEjW"
      },
      "execution_count": 4,
      "outputs": []
    },
    {
      "cell_type": "code",
      "source": [
        "np.random.seed(42)\n",
        "weights = np.random.random(size=(N_PORTFOLIOS, n_assets))\n",
        "weights /= np.sum(weights, axis=1)[:,np.newaxis]"
      ],
      "metadata": {
        "id": "hErk--jyUHP3"
      },
      "execution_count": 5,
      "outputs": []
    },
    {
      "cell_type": "code",
      "source": [
        "portf_rtns = np.dot(weights,avg_returns)\n",
        "\n",
        "portf_vol = []\n",
        "for i in range(0, len(weights)): \n",
        "    portf_vol.append(np.sqrt(np.dot(weights[i].T, \n",
        "                                  np.dot(cov_mat, weights[i]))))\n",
        "\n",
        "\n",
        "portf_vol = np.array(portf_vol)  # 행렬로 변환\n",
        "portf_sharpe_ratio = portf_rtns / portf_vol  # 샤프 비율 계산하기"
      ],
      "metadata": {
        "id": "QdQPmT2aUK3T"
      },
      "execution_count": 6,
      "outputs": []
    },
    {
      "cell_type": "code",
      "source": [
        "portf_results_df = pd.DataFrame({'returns': portf_rtns, \n",
        "                                 'volatility': portf_vol, \n",
        "                                 'sharpe_ratio': portf_sharpe_ratio})\n",
        "\n",
        "portf_results_df "
      ],
      "metadata": {
        "colab": {
          "base_uri": "https://localhost:8080/",
          "height": 424
        },
        "id": "dBGK6FvUUItM",
        "outputId": "29e95231-4f6d-4250-a485-9c74cb4da9c0"
      },
      "execution_count": 7,
      "outputs": [
        {
          "output_type": "execute_result",
          "data": {
            "text/plain": [
              "        returns  volatility  sharpe_ratio\n",
              "0     -0.041840    0.229741     -0.182118\n",
              "1     -0.032099    0.250964     -0.127903\n",
              "2     -0.052787    0.232481     -0.227058\n",
              "3      0.101937    0.262019      0.389045\n",
              "4     -0.038378    0.251882     -0.152366\n",
              "...         ...         ...           ...\n",
              "99995  0.061836    0.245998      0.251370\n",
              "99996  0.049962    0.250287      0.199618\n",
              "99997 -0.048928    0.229516     -0.213178\n",
              "99998  0.050206    0.256901      0.195430\n",
              "99999  0.082046    0.259178      0.316562\n",
              "\n",
              "[100000 rows x 3 columns]"
            ],
            "text/html": [
              "\n",
              "  <div id=\"df-d1689e28-e836-4e3f-8bcd-e5fd617b4a64\">\n",
              "    <div class=\"colab-df-container\">\n",
              "      <div>\n",
              "<style scoped>\n",
              "    .dataframe tbody tr th:only-of-type {\n",
              "        vertical-align: middle;\n",
              "    }\n",
              "\n",
              "    .dataframe tbody tr th {\n",
              "        vertical-align: top;\n",
              "    }\n",
              "\n",
              "    .dataframe thead th {\n",
              "        text-align: right;\n",
              "    }\n",
              "</style>\n",
              "<table border=\"1\" class=\"dataframe\">\n",
              "  <thead>\n",
              "    <tr style=\"text-align: right;\">\n",
              "      <th></th>\n",
              "      <th>returns</th>\n",
              "      <th>volatility</th>\n",
              "      <th>sharpe_ratio</th>\n",
              "    </tr>\n",
              "  </thead>\n",
              "  <tbody>\n",
              "    <tr>\n",
              "      <th>0</th>\n",
              "      <td>-0.041840</td>\n",
              "      <td>0.229741</td>\n",
              "      <td>-0.182118</td>\n",
              "    </tr>\n",
              "    <tr>\n",
              "      <th>1</th>\n",
              "      <td>-0.032099</td>\n",
              "      <td>0.250964</td>\n",
              "      <td>-0.127903</td>\n",
              "    </tr>\n",
              "    <tr>\n",
              "      <th>2</th>\n",
              "      <td>-0.052787</td>\n",
              "      <td>0.232481</td>\n",
              "      <td>-0.227058</td>\n",
              "    </tr>\n",
              "    <tr>\n",
              "      <th>3</th>\n",
              "      <td>0.101937</td>\n",
              "      <td>0.262019</td>\n",
              "      <td>0.389045</td>\n",
              "    </tr>\n",
              "    <tr>\n",
              "      <th>4</th>\n",
              "      <td>-0.038378</td>\n",
              "      <td>0.251882</td>\n",
              "      <td>-0.152366</td>\n",
              "    </tr>\n",
              "    <tr>\n",
              "      <th>...</th>\n",
              "      <td>...</td>\n",
              "      <td>...</td>\n",
              "      <td>...</td>\n",
              "    </tr>\n",
              "    <tr>\n",
              "      <th>99995</th>\n",
              "      <td>0.061836</td>\n",
              "      <td>0.245998</td>\n",
              "      <td>0.251370</td>\n",
              "    </tr>\n",
              "    <tr>\n",
              "      <th>99996</th>\n",
              "      <td>0.049962</td>\n",
              "      <td>0.250287</td>\n",
              "      <td>0.199618</td>\n",
              "    </tr>\n",
              "    <tr>\n",
              "      <th>99997</th>\n",
              "      <td>-0.048928</td>\n",
              "      <td>0.229516</td>\n",
              "      <td>-0.213178</td>\n",
              "    </tr>\n",
              "    <tr>\n",
              "      <th>99998</th>\n",
              "      <td>0.050206</td>\n",
              "      <td>0.256901</td>\n",
              "      <td>0.195430</td>\n",
              "    </tr>\n",
              "    <tr>\n",
              "      <th>99999</th>\n",
              "      <td>0.082046</td>\n",
              "      <td>0.259178</td>\n",
              "      <td>0.316562</td>\n",
              "    </tr>\n",
              "  </tbody>\n",
              "</table>\n",
              "<p>100000 rows × 3 columns</p>\n",
              "</div>\n",
              "      <button class=\"colab-df-convert\" onclick=\"convertToInteractive('df-d1689e28-e836-4e3f-8bcd-e5fd617b4a64')\"\n",
              "              title=\"Convert this dataframe to an interactive table.\"\n",
              "              style=\"display:none;\">\n",
              "        \n",
              "  <svg xmlns=\"http://www.w3.org/2000/svg\" height=\"24px\"viewBox=\"0 0 24 24\"\n",
              "       width=\"24px\">\n",
              "    <path d=\"M0 0h24v24H0V0z\" fill=\"none\"/>\n",
              "    <path d=\"M18.56 5.44l.94 2.06.94-2.06 2.06-.94-2.06-.94-.94-2.06-.94 2.06-2.06.94zm-11 1L8.5 8.5l.94-2.06 2.06-.94-2.06-.94L8.5 2.5l-.94 2.06-2.06.94zm10 10l.94 2.06.94-2.06 2.06-.94-2.06-.94-.94-2.06-.94 2.06-2.06.94z\"/><path d=\"M17.41 7.96l-1.37-1.37c-.4-.4-.92-.59-1.43-.59-.52 0-1.04.2-1.43.59L10.3 9.45l-7.72 7.72c-.78.78-.78 2.05 0 2.83L4 21.41c.39.39.9.59 1.41.59.51 0 1.02-.2 1.41-.59l7.78-7.78 2.81-2.81c.8-.78.8-2.07 0-2.86zM5.41 20L4 18.59l7.72-7.72 1.47 1.35L5.41 20z\"/>\n",
              "  </svg>\n",
              "      </button>\n",
              "      \n",
              "  <style>\n",
              "    .colab-df-container {\n",
              "      display:flex;\n",
              "      flex-wrap:wrap;\n",
              "      gap: 12px;\n",
              "    }\n",
              "\n",
              "    .colab-df-convert {\n",
              "      background-color: #E8F0FE;\n",
              "      border: none;\n",
              "      border-radius: 50%;\n",
              "      cursor: pointer;\n",
              "      display: none;\n",
              "      fill: #1967D2;\n",
              "      height: 32px;\n",
              "      padding: 0 0 0 0;\n",
              "      width: 32px;\n",
              "    }\n",
              "\n",
              "    .colab-df-convert:hover {\n",
              "      background-color: #E2EBFA;\n",
              "      box-shadow: 0px 1px 2px rgba(60, 64, 67, 0.3), 0px 1px 3px 1px rgba(60, 64, 67, 0.15);\n",
              "      fill: #174EA6;\n",
              "    }\n",
              "\n",
              "    [theme=dark] .colab-df-convert {\n",
              "      background-color: #3B4455;\n",
              "      fill: #D2E3FC;\n",
              "    }\n",
              "\n",
              "    [theme=dark] .colab-df-convert:hover {\n",
              "      background-color: #434B5C;\n",
              "      box-shadow: 0px 1px 3px 1px rgba(0, 0, 0, 0.15);\n",
              "      filter: drop-shadow(0px 1px 2px rgba(0, 0, 0, 0.3));\n",
              "      fill: #FFFFFF;\n",
              "    }\n",
              "  </style>\n",
              "\n",
              "      <script>\n",
              "        const buttonEl =\n",
              "          document.querySelector('#df-d1689e28-e836-4e3f-8bcd-e5fd617b4a64 button.colab-df-convert');\n",
              "        buttonEl.style.display =\n",
              "          google.colab.kernel.accessAllowed ? 'block' : 'none';\n",
              "\n",
              "        async function convertToInteractive(key) {\n",
              "          const element = document.querySelector('#df-d1689e28-e836-4e3f-8bcd-e5fd617b4a64');\n",
              "          const dataTable =\n",
              "            await google.colab.kernel.invokeFunction('convertToInteractive',\n",
              "                                                     [key], {});\n",
              "          if (!dataTable) return;\n",
              "\n",
              "          const docLinkHtml = 'Like what you see? Visit the ' +\n",
              "            '<a target=\"_blank\" href=https://colab.research.google.com/notebooks/data_table.ipynb>data table notebook</a>'\n",
              "            + ' to learn more about interactive tables.';\n",
              "          element.innerHTML = '';\n",
              "          dataTable['output_type'] = 'display_data';\n",
              "          await google.colab.output.renderOutput(dataTable, element);\n",
              "          const docLink = document.createElement('div');\n",
              "          docLink.innerHTML = docLinkHtml;\n",
              "          element.appendChild(docLink);\n",
              "        }\n",
              "      </script>\n",
              "    </div>\n",
              "  </div>\n",
              "  "
            ]
          },
          "metadata": {},
          "execution_count": 7
        }
      ]
    },
    {
      "cell_type": "code",
      "source": [
        "max_sharpe_ind = np.argmax(portf_results_df.sharpe_ratio)\n",
        "max_sharpe_portf = portf_results_df.loc[max_sharpe_ind]\n",
        "\n",
        "min_vol_ind = np.argmin(portf_results_df.volatility)\n",
        "min_vol_portf = portf_results_df.loc[min_vol_ind]"
      ],
      "metadata": {
        "id": "rTzk9RoqUMgs"
      },
      "execution_count": 8,
      "outputs": []
    },
    {
      "cell_type": "markdown",
      "source": [
        "### **Maximum Sharpe ratio portfolio**"
      ],
      "metadata": {
        "id": "O2vo3zUYU_gs"
      }
    },
    {
      "cell_type": "code",
      "source": [
        "print('Maximum Sharpe Ratio portfolio ----')\n",
        "print('Performance')\n",
        "for index, value in max_sharpe_portf.items():\n",
        "    print(f'{index}: {100 * value:.2f}% ', end=\"\", flush=True)\n",
        "print('\\nWeights')\n",
        "for x, y in zip(RISKY_ASSETS, weights[np.argmax(portf_results_df.sharpe_ratio)]):\n",
        "    print(f'{x}: {100*y:.2f}% ', end=\"\", flush=True)"
      ],
      "metadata": {
        "colab": {
          "base_uri": "https://localhost:8080/"
        },
        "id": "tPa62xPOUOHs",
        "outputId": "542def8b-2580-418e-d728-3ea2d393e977"
      },
      "execution_count": 9,
      "outputs": [
        {
          "output_type": "stream",
          "name": "stdout",
          "text": [
            "Maximum Sharpe Ratio portfolio ----\n",
            "Performance\n",
            "returns: 21.28% volatility: 28.30% sharpe_ratio: 75.20% \n",
            "Weights\n",
            "AAPL: 0.19% IBM: 0.29% MSFT: 99.52% "
          ]
        }
      ]
    },
    {
      "cell_type": "markdown",
      "source": [
        "### **Minimum variance portfolio weights**"
      ],
      "metadata": {
        "id": "fze4KJuxVBlD"
      }
    },
    {
      "cell_type": "code",
      "source": [
        "print('Minimum Volatility portfolio ----')\n",
        "print('Performance')\n",
        "for index, value in min_vol_portf.items():\n",
        "    print(f'{index}: {100 * value:.2f}% ', end=\"\", flush=True)\n",
        "print('\\nWeights')\n",
        "for x, y in zip(RISKY_ASSETS, weights[np.argmin(portf_results_df.volatility)]):\n",
        "    print(f'{x}: {100*y:.2f}% ', end=\"\", flush=True)"
      ],
      "metadata": {
        "colab": {
          "base_uri": "https://localhost:8080/"
        },
        "id": "78hDOHQ6UPdx",
        "outputId": "a1ac0202-ea5a-4d73-c4cb-0c5b289fb7a1"
      },
      "execution_count": 10,
      "outputs": [
        {
          "output_type": "stream",
          "name": "stdout",
          "text": [
            "Minimum Volatility portfolio ----\n",
            "Performance\n",
            "returns: -12.38% volatility: 22.58% sharpe_ratio: -54.84% \n",
            "Weights\n",
            "AAPL: 28.08% IBM: 58.69% MSFT: 13.22% "
          ]
        }
      ]
    },
    {
      "cell_type": "markdown",
      "source": [
        "# **HW4**"
      ],
      "metadata": {
        "id": "8BhD-L2GURUq"
      }
    },
    {
      "cell_type": "code",
      "source": [
        "import numpy as np\n",
        "import scipy.optimize as sco"
      ],
      "metadata": {
        "id": "WWwF4JrAVH9i"
      },
      "execution_count": 11,
      "outputs": []
    },
    {
      "cell_type": "code",
      "source": [
        "N_DAYS = 252\n",
        "\n",
        "returns_df = prices_df['Adj Close'].pct_change().dropna()\n",
        "avg_returns = returns_df.mean() * N_DAYS\n",
        "cov_mat = returns_df.cov() * N_DAYS"
      ],
      "metadata": {
        "id": "94l575p6Vne8"
      },
      "execution_count": 12,
      "outputs": []
    },
    {
      "cell_type": "code",
      "source": [
        "def get_portf_rtn(w, ave_rtns):\n",
        "    return np.sum(ave_rtns * w)\n",
        "\n",
        "def get_portf_vol(w, avg_rtns, cov_mat):\n",
        "    return np.sqrt(np.dot(w.T, np.dot(cov_mat, w)))"
      ],
      "metadata": {
        "id": "6qwcxF2qVq_l"
      },
      "execution_count": 13,
      "outputs": []
    },
    {
      "cell_type": "code",
      "source": [
        "def get_efficient_frontier(avg_rtns, cov_mat, rtns_range):\n",
        "    \n",
        "    efficient_portfolios = []\n",
        "    \n",
        "    n_assets = len(avg_returns)\n",
        "    args = (avg_returns, cov_mat)\n",
        "    bounds = tuple((0,1) for assets in range(n_assets))\n",
        "    initial_guess = n_assets * [1. / n_assets]\n",
        "    \n",
        "    for ret in rtns_range:\n",
        "        constraints = ({'type': 'eq',\n",
        "                        'fun': lambda x: get_portf_rtn(x, avg_rtns) - ret},\n",
        "                       {'type': 'eq',\n",
        "                        'fun': lambda x: np.sum(x) - 1})\n",
        "        efficient_portfolio = sco.minimize(get_portf_vol, initial_guess,\n",
        "                                           args = args, method = 'SLSQP',\n",
        "                                           constraints = constraints,\n",
        "                                           bounds = bounds)\n",
        "        efficient_portfolios.append(efficient_portfolio)\n",
        "        \n",
        "    return efficient_portfolios"
      ],
      "metadata": {
        "id": "7KPGGVr1VsXm"
      },
      "execution_count": 14,
      "outputs": []
    },
    {
      "cell_type": "code",
      "source": [
        "rtns_range = np.linspace(-0.22, 0.32, 200)"
      ],
      "metadata": {
        "id": "W6wwsst1VzDK"
      },
      "execution_count": 15,
      "outputs": []
    },
    {
      "cell_type": "code",
      "source": [
        "efficient_portfolios = get_efficient_frontier(avg_returns,\n",
        "                                              cov_mat,\n",
        "                                              rtns_range)"
      ],
      "metadata": {
        "id": "YrpmSOcvV0ad"
      },
      "execution_count": 16,
      "outputs": []
    },
    {
      "cell_type": "code",
      "source": [
        "vols_range = [x['fun'] for x in efficient_portfolios]"
      ],
      "metadata": {
        "id": "IJ-splmgV1zQ"
      },
      "execution_count": 17,
      "outputs": []
    },
    {
      "cell_type": "code",
      "source": [
        "min_vol_ind = np.argmin(vols_range)\n",
        "min_vol_portf_rtn = rtns_range[min_vol_ind]\n",
        "min_vol_portf_vol = efficient_portfolios[min_vol_ind]['fun']\n",
        "\n",
        "min_vol_portf = {'Return': min_vol_portf_rtn,\n",
        "                 'Volatility': min_vol_portf_vol,\n",
        "                 'Sharpe Ratio': (min_vol_portf_rtn /\n",
        "                                  min_vol_portf_vol)}\n",
        "\n",
        "min_vol_portf"
      ],
      "metadata": {
        "colab": {
          "base_uri": "https://localhost:8080/"
        },
        "id": "DMsQjppMV3Sf",
        "outputId": "08c64ad6-3c7b-458b-a031-8839deb912c3"
      },
      "execution_count": 18,
      "outputs": [
        {
          "output_type": "execute_result",
          "data": {
            "text/plain": [
              "{'Return': -0.1250251256281407,\n",
              " 'Volatility': 0.22580473027744621,\n",
              " 'Sharpe Ratio': -0.5536869199973019}"
            ]
          },
          "metadata": {},
          "execution_count": 18
        }
      ]
    },
    {
      "cell_type": "code",
      "source": [
        "max_rtn_ind = np.argmax(rtns_range)\n",
        "max_rtn_portf_vol = vols_range[max_rtn_ind]\n",
        "max_rtn_portf_rtn = efficient_portfolios[max_rtn_ind]['fun']\n",
        "\n",
        "max_rtn_portf = {'Return': max_rtn_portf_rtn,\n",
        "                 'Volatility': max_rtn_portf_vol,\n",
        "                 'Sharpe Ratio': (max_rtn_portf_rtn /\n",
        "                                  max_rtn_portf_vol)}"
      ],
      "metadata": {
        "id": "2k6rjXxKV9Rv"
      },
      "execution_count": 19,
      "outputs": []
    },
    {
      "cell_type": "code",
      "source": [
        "def neg_sharpe_ratio(w, avg_rtns, cov_mat, rf_rate): \n",
        "    portf_returns = np.sum(avg_rtns * w) \n",
        "    portf_volatility = np.sqrt(np.dot(w.T, np.dot(cov_mat, w)))\n",
        "    portf_sharpe_ratio = (portf_returns - rf_rate) / portf_volatility \n",
        "    return -portf_sharpe_ratio "
      ],
      "metadata": {
        "id": "ZpqYVWiRV_MK"
      },
      "execution_count": 20,
      "outputs": []
    },
    {
      "cell_type": "code",
      "source": [
        "n_assets = len(avg_returns) \n",
        "RF_RATE = 0 \n",
        "\n",
        "args = (avg_returns, cov_mat, RF_RATE)\n",
        "constraints = ({'type': 'eq', \n",
        "                'fun': lambda x: np.sum(x)-1})   \n",
        "bounds = tuple((0,1) for asset in range(n_assets)) \n",
        "initial_guess = n_assets * [1. / n_assets]\n",
        "\n",
        "max_sharpe_portf = sco.minimize(neg_sharpe_ratio, \n",
        "                                x0=initial_guess,  \n",
        "                                args=args, \n",
        "                                method='SLSQP', \n",
        "                                bounds=bounds, \n",
        "                                constraints=constraints)"
      ],
      "metadata": {
        "id": "zJu8ly0BWHHr"
      },
      "execution_count": 21,
      "outputs": []
    },
    {
      "cell_type": "code",
      "source": [
        "max_sharpe_portf_w = max_sharpe_portf['x']\n",
        "max_sharpe_portf = {'Return': get_portf_rtn(max_sharpe_portf_w, \n",
        "                                            avg_returns),\n",
        "                    'Volatility': get_portf_vol(max_sharpe_portf_w, \n",
        "                                                avg_returns, \n",
        "                                                cov_mat),\n",
        "                    'Sharpe Ratio': -max_sharpe_portf['fun']}\n",
        "max_sharpe_portf"
      ],
      "metadata": {
        "colab": {
          "base_uri": "https://localhost:8080/"
        },
        "id": "KPEIKF4qWI2-",
        "outputId": "64673f7f-0cc4-490c-e144-e51ab308da47"
      },
      "execution_count": 22,
      "outputs": [
        {
          "output_type": "execute_result",
          "data": {
            "text/plain": [
              "{'Return': 0.21458111034107336,\n",
              " 'Volatility': 0.2835380616507977,\n",
              " 'Sharpe Ratio': 0.7567982552033845}"
            ]
          },
          "metadata": {},
          "execution_count": 22
        }
      ]
    },
    {
      "cell_type": "code",
      "source": [
        "RISKY_ASSETS = ['AAPL', 'IBM', 'MSFT']\n",
        "START_DATE = '2018-01-01'\n",
        "END_DATE = '2018-12-31'"
      ],
      "metadata": {
        "id": "L_S9WsLlWT-9"
      },
      "execution_count": 23,
      "outputs": []
    },
    {
      "cell_type": "code",
      "source": [
        "df = yf.download(RISKY_ASSETS, start=START_DATE, \n",
        "                 end=END_DATE, adjusted=True)\n",
        "print(f'Downloaded {df.shape[0]} rows of data.')"
      ],
      "metadata": {
        "colab": {
          "base_uri": "https://localhost:8080/"
        },
        "id": "ky4XoFz0WeyB",
        "outputId": "dbcd6bb1-bbe7-4aea-fa29-745673d1934a"
      },
      "execution_count": 24,
      "outputs": [
        {
          "output_type": "stream",
          "name": "stdout",
          "text": [
            "[*********************100%***********************]  3 of 3 completed\n",
            "Downloaded 250 rows of data.\n"
          ]
        }
      ]
    },
    {
      "cell_type": "code",
      "source": [
        "adj_close = df['Adj Close']\n",
        "returns = returns = adj_close.pct_change().dropna()\n",
        "\n",
        "train = returns['2018-01-01':'2018-06-30']\n",
        "test = returns['2018-07-01':'2018-12-31']"
      ],
      "metadata": {
        "id": "gmR_f2uwWgIC"
      },
      "execution_count": 25,
      "outputs": []
    },
    {
      "cell_type": "code",
      "source": [
        "T = 1\n",
        "N = len(returns_df)\n",
        "N_SIM = 10**3"
      ],
      "metadata": {
        "id": "xVHfzlFwWhX7"
      },
      "execution_count": 26,
      "outputs": []
    },
    {
      "cell_type": "code",
      "source": [
        "returns_df"
      ],
      "metadata": {
        "colab": {
          "base_uri": "https://localhost:8080/",
          "height": 455
        },
        "id": "iixuLMBTWlBL",
        "outputId": "51440d0a-7cc5-405c-cd60-e2ca95bda7bd"
      },
      "execution_count": 27,
      "outputs": [
        {
          "output_type": "execute_result",
          "data": {
            "text/plain": [
              "                AAPL       IBM      MSFT\n",
              "Date                                    \n",
              "2018-01-03 -0.000174  0.027488  0.004654\n",
              "2018-01-04  0.004645  0.020254  0.008801\n",
              "2018-01-05  0.011385  0.004885  0.012398\n",
              "2018-01-08 -0.003714  0.006031  0.001021\n",
              "2018-01-09 -0.000115  0.002203 -0.000680\n",
              "...              ...       ...       ...\n",
              "2018-12-21 -0.038896 -0.018404 -0.032312\n",
              "2018-12-24 -0.025874 -0.030377 -0.041739\n",
              "2018-12-26  0.070422  0.035512  0.068310\n",
              "2018-12-27 -0.006490  0.021457  0.006165\n",
              "2018-12-28  0.000512 -0.006592 -0.007808\n",
              "\n",
              "[249 rows x 3 columns]"
            ],
            "text/html": [
              "\n",
              "  <div id=\"df-126b01ff-8bee-49c9-9c4d-d7bd692b7d47\">\n",
              "    <div class=\"colab-df-container\">\n",
              "      <div>\n",
              "<style scoped>\n",
              "    .dataframe tbody tr th:only-of-type {\n",
              "        vertical-align: middle;\n",
              "    }\n",
              "\n",
              "    .dataframe tbody tr th {\n",
              "        vertical-align: top;\n",
              "    }\n",
              "\n",
              "    .dataframe thead th {\n",
              "        text-align: right;\n",
              "    }\n",
              "</style>\n",
              "<table border=\"1\" class=\"dataframe\">\n",
              "  <thead>\n",
              "    <tr style=\"text-align: right;\">\n",
              "      <th></th>\n",
              "      <th>AAPL</th>\n",
              "      <th>IBM</th>\n",
              "      <th>MSFT</th>\n",
              "    </tr>\n",
              "    <tr>\n",
              "      <th>Date</th>\n",
              "      <th></th>\n",
              "      <th></th>\n",
              "      <th></th>\n",
              "    </tr>\n",
              "  </thead>\n",
              "  <tbody>\n",
              "    <tr>\n",
              "      <th>2018-01-03</th>\n",
              "      <td>-0.000174</td>\n",
              "      <td>0.027488</td>\n",
              "      <td>0.004654</td>\n",
              "    </tr>\n",
              "    <tr>\n",
              "      <th>2018-01-04</th>\n",
              "      <td>0.004645</td>\n",
              "      <td>0.020254</td>\n",
              "      <td>0.008801</td>\n",
              "    </tr>\n",
              "    <tr>\n",
              "      <th>2018-01-05</th>\n",
              "      <td>0.011385</td>\n",
              "      <td>0.004885</td>\n",
              "      <td>0.012398</td>\n",
              "    </tr>\n",
              "    <tr>\n",
              "      <th>2018-01-08</th>\n",
              "      <td>-0.003714</td>\n",
              "      <td>0.006031</td>\n",
              "      <td>0.001021</td>\n",
              "    </tr>\n",
              "    <tr>\n",
              "      <th>2018-01-09</th>\n",
              "      <td>-0.000115</td>\n",
              "      <td>0.002203</td>\n",
              "      <td>-0.000680</td>\n",
              "    </tr>\n",
              "    <tr>\n",
              "      <th>...</th>\n",
              "      <td>...</td>\n",
              "      <td>...</td>\n",
              "      <td>...</td>\n",
              "    </tr>\n",
              "    <tr>\n",
              "      <th>2018-12-21</th>\n",
              "      <td>-0.038896</td>\n",
              "      <td>-0.018404</td>\n",
              "      <td>-0.032312</td>\n",
              "    </tr>\n",
              "    <tr>\n",
              "      <th>2018-12-24</th>\n",
              "      <td>-0.025874</td>\n",
              "      <td>-0.030377</td>\n",
              "      <td>-0.041739</td>\n",
              "    </tr>\n",
              "    <tr>\n",
              "      <th>2018-12-26</th>\n",
              "      <td>0.070422</td>\n",
              "      <td>0.035512</td>\n",
              "      <td>0.068310</td>\n",
              "    </tr>\n",
              "    <tr>\n",
              "      <th>2018-12-27</th>\n",
              "      <td>-0.006490</td>\n",
              "      <td>0.021457</td>\n",
              "      <td>0.006165</td>\n",
              "    </tr>\n",
              "    <tr>\n",
              "      <th>2018-12-28</th>\n",
              "      <td>0.000512</td>\n",
              "      <td>-0.006592</td>\n",
              "      <td>-0.007808</td>\n",
              "    </tr>\n",
              "  </tbody>\n",
              "</table>\n",
              "<p>249 rows × 3 columns</p>\n",
              "</div>\n",
              "      <button class=\"colab-df-convert\" onclick=\"convertToInteractive('df-126b01ff-8bee-49c9-9c4d-d7bd692b7d47')\"\n",
              "              title=\"Convert this dataframe to an interactive table.\"\n",
              "              style=\"display:none;\">\n",
              "        \n",
              "  <svg xmlns=\"http://www.w3.org/2000/svg\" height=\"24px\"viewBox=\"0 0 24 24\"\n",
              "       width=\"24px\">\n",
              "    <path d=\"M0 0h24v24H0V0z\" fill=\"none\"/>\n",
              "    <path d=\"M18.56 5.44l.94 2.06.94-2.06 2.06-.94-2.06-.94-.94-2.06-.94 2.06-2.06.94zm-11 1L8.5 8.5l.94-2.06 2.06-.94-2.06-.94L8.5 2.5l-.94 2.06-2.06.94zm10 10l.94 2.06.94-2.06 2.06-.94-2.06-.94-.94-2.06-.94 2.06-2.06.94z\"/><path d=\"M17.41 7.96l-1.37-1.37c-.4-.4-.92-.59-1.43-.59-.52 0-1.04.2-1.43.59L10.3 9.45l-7.72 7.72c-.78.78-.78 2.05 0 2.83L4 21.41c.39.39.9.59 1.41.59.51 0 1.02-.2 1.41-.59l7.78-7.78 2.81-2.81c.8-.78.8-2.07 0-2.86zM5.41 20L4 18.59l7.72-7.72 1.47 1.35L5.41 20z\"/>\n",
              "  </svg>\n",
              "      </button>\n",
              "      \n",
              "  <style>\n",
              "    .colab-df-container {\n",
              "      display:flex;\n",
              "      flex-wrap:wrap;\n",
              "      gap: 12px;\n",
              "    }\n",
              "\n",
              "    .colab-df-convert {\n",
              "      background-color: #E8F0FE;\n",
              "      border: none;\n",
              "      border-radius: 50%;\n",
              "      cursor: pointer;\n",
              "      display: none;\n",
              "      fill: #1967D2;\n",
              "      height: 32px;\n",
              "      padding: 0 0 0 0;\n",
              "      width: 32px;\n",
              "    }\n",
              "\n",
              "    .colab-df-convert:hover {\n",
              "      background-color: #E2EBFA;\n",
              "      box-shadow: 0px 1px 2px rgba(60, 64, 67, 0.3), 0px 1px 3px 1px rgba(60, 64, 67, 0.15);\n",
              "      fill: #174EA6;\n",
              "    }\n",
              "\n",
              "    [theme=dark] .colab-df-convert {\n",
              "      background-color: #3B4455;\n",
              "      fill: #D2E3FC;\n",
              "    }\n",
              "\n",
              "    [theme=dark] .colab-df-convert:hover {\n",
              "      background-color: #434B5C;\n",
              "      box-shadow: 0px 1px 3px 1px rgba(0, 0, 0, 0.15);\n",
              "      filter: drop-shadow(0px 1px 2px rgba(0, 0, 0, 0.3));\n",
              "      fill: #FFFFFF;\n",
              "    }\n",
              "  </style>\n",
              "\n",
              "      <script>\n",
              "        const buttonEl =\n",
              "          document.querySelector('#df-126b01ff-8bee-49c9-9c4d-d7bd692b7d47 button.colab-df-convert');\n",
              "        buttonEl.style.display =\n",
              "          google.colab.kernel.accessAllowed ? 'block' : 'none';\n",
              "\n",
              "        async function convertToInteractive(key) {\n",
              "          const element = document.querySelector('#df-126b01ff-8bee-49c9-9c4d-d7bd692b7d47');\n",
              "          const dataTable =\n",
              "            await google.colab.kernel.invokeFunction('convertToInteractive',\n",
              "                                                     [key], {});\n",
              "          if (!dataTable) return;\n",
              "\n",
              "          const docLinkHtml = 'Like what you see? Visit the ' +\n",
              "            '<a target=\"_blank\" href=https://colab.research.google.com/notebooks/data_table.ipynb>data table notebook</a>'\n",
              "            + ' to learn more about interactive tables.';\n",
              "          element.innerHTML = '';\n",
              "          dataTable['output_type'] = 'display_data';\n",
              "          await google.colab.output.renderOutput(dataTable, element);\n",
              "          const docLink = document.createElement('div');\n",
              "          docLink.innerHTML = docLinkHtml;\n",
              "          element.appendChild(docLink);\n",
              "        }\n",
              "      </script>\n",
              "    </div>\n",
              "  </div>\n",
              "  "
            ]
          },
          "metadata": {},
          "execution_count": 27
        }
      ]
    },
    {
      "cell_type": "code",
      "source": [
        "def simulate_gbm(s_0, mu, sigma, n_sims, T, N, random_seed=42):\n",
        "    np.random.seed(random_seed)                                                 # 시뮬레이션 식 정의하는 코드 강조    \n",
        "\n",
        "    dt = T/N \n",
        "    dW = np.random.normal(scale = np.sqrt(dt), size=(n_sims, N))\n",
        "    W = np.cumsum(dW, axis =1)    #cum = cumulative (누적해서 더하는 것) , axis = 0 이 의미하는 것은 세로로 더하는 것 axis = 1이 의미하는 것은 가로로 더하는 것\n",
        "\n",
        "    time_step = np.linspace(dt, T, N)\n",
        "    time_steps = np.broadcast_to(time_step, (n_sims, N))\n",
        "\n",
        "    S_t = s_0 * np.exp((mu - 0.5 * sigma ** 2) * time_steps\n",
        "                       + sigma * W)\n",
        "    S_t = np.insert(S_t, 0, s_0, axis=1)                                        ### 행렬 S_t에 인덱스 0인 자리에 s_0 삽입\n",
        "\n",
        "    return S_t           "
      ],
      "metadata": {
        "id": "quvUo8AnW7ph"
      },
      "execution_count": 28,
      "outputs": []
    },
    {
      "cell_type": "markdown",
      "source": [
        "**Simulation 1 : minimizing the volatility** "
      ],
      "metadata": {
        "id": "CPwWPDLTYNey"
      }
    },
    {
      "cell_type": "code",
      "source": [
        "shares = efficient_portfolios[min_vol_ind]['x']\n",
        "shares"
      ],
      "metadata": {
        "colab": {
          "base_uri": "https://localhost:8080/"
        },
        "id": "3TG-gcADXCca",
        "outputId": "74c83af9-3710-4095-a40a-688b248648c2"
      },
      "execution_count": 29,
      "outputs": [
        {
          "output_type": "execute_result",
          "data": {
            "text/plain": [
              "array([0.28038243, 0.58980027, 0.12981731])"
            ]
          },
          "metadata": {},
          "execution_count": 29
        }
      ]
    },
    {
      "cell_type": "code",
      "source": [
        "mu = np.matmul(avg_returns, shares)\n",
        "sigma = np.matmul(np.matmul(shares, cov_mat.values), shares.T)\n",
        "print(mu)\n",
        "print(sigma)"
      ],
      "metadata": {
        "colab": {
          "base_uri": "https://localhost:8080/"
        },
        "id": "jsUsidD5XEIA",
        "outputId": "5b68837f-9434-4ea4-f0e7-dc4c0eef926b"
      },
      "execution_count": 30,
      "outputs": [
        {
          "output_type": "stream",
          "name": "stdout",
          "text": [
            "-0.12502512563538554\n",
            "0.05098777621567024\n"
          ]
        }
      ]
    },
    {
      "cell_type": "code",
      "source": [
        "gbm_simulations = simulate_gbm(1, mu, sigma, N_SIM, T, N)\n",
        "gbm_simulations"
      ],
      "metadata": {
        "colab": {
          "base_uri": "https://localhost:8080/"
        },
        "id": "oWe5xu0rXF0u",
        "outputId": "a1feaac0-ca3e-4749-f532-53e0a023b3d9"
      },
      "execution_count": 31,
      "outputs": [
        {
          "output_type": "execute_result",
          "data": {
            "text/plain": [
              "array([[1.        , 1.00109827, 1.00014358, ..., 0.87619231, 0.87390111,\n",
              "        0.8784548 ],\n",
              "       [1.        , 1.00080158, 0.99622687, ..., 0.90507908, 0.9015932 ,\n",
              "        0.90058186],\n",
              "       [1.        , 0.99666892, 0.99172235, ..., 0.83836677, 0.83597885,\n",
              "        0.83605924],\n",
              "       ...,\n",
              "       [1.        , 1.00197953, 1.00694425, ..., 0.88839654, 0.88780322,\n",
              "        0.89128989],\n",
              "       [1.        , 0.99754596, 0.99509607, ..., 0.88062026, 0.88144008,\n",
              "        0.87680829],\n",
              "       [1.        , 0.9933521 , 0.99824732, ..., 0.92887668, 0.93043501,\n",
              "        0.93339884]])"
            ]
          },
          "metadata": {},
          "execution_count": 31
        }
      ]
    },
    {
      "cell_type": "code",
      "source": [
        "gbm_simulations_df = pd.DataFrame(np.transpose(gbm_simulations))\n",
        "gbm_simulations_df"
      ],
      "metadata": {
        "colab": {
          "base_uri": "https://localhost:8080/",
          "height": 488
        },
        "id": "nqVKHNXmXHQt",
        "outputId": "a70c9117-cf48-46f0-f4b2-c64d1f415b33"
      },
      "execution_count": 32,
      "outputs": [
        {
          "output_type": "execute_result",
          "data": {
            "text/plain": [
              "          0         1         2         3         4         5         6    \\\n",
              "0    1.000000  1.000000  1.000000  1.000000  1.000000  1.000000  1.000000   \n",
              "1    1.001098  1.000802  0.996669  0.997056  1.005315  0.995548  1.004486   \n",
              "2    1.000144  0.996227  0.991722  0.994583  1.006888  0.995152  1.010505   \n",
              "3    1.001731  0.998679  0.994190  0.989571  1.004522  0.992176  1.016743   \n",
              "4    1.006162  1.005041  0.999836  0.986123  1.005872  0.992422  1.020203   \n",
              "..        ...       ...       ...       ...       ...       ...       ...   \n",
              "245  0.879379  0.899981  0.837745  0.972213  0.991980  0.921288  0.943353   \n",
              "246  0.877983  0.903963  0.837390  0.970944  0.990825  0.919180  0.948100   \n",
              "247  0.876192  0.905079  0.838367  0.968315  0.988463  0.926339  0.947300   \n",
              "248  0.873901  0.901593  0.835979  0.964697  0.984728  0.924183  0.946303   \n",
              "249  0.878455  0.900582  0.836059  0.963332  0.982165  0.924265  0.946037   \n",
              "\n",
              "          7         8         9    ...       990       991       992  \\\n",
              "0    1.000000  1.000000  1.000000  ...  1.000000  1.000000  1.000000   \n",
              "1    1.003252  1.003340  1.001382  ...  1.006975  0.998988  0.994905   \n",
              "2    0.999743  1.005129  1.007286  ...  1.003956  0.999666  0.996007   \n",
              "3    1.000006  1.005760  1.001700  ...  1.002853  0.997347  0.996946   \n",
              "4    1.002653  1.008732  1.006437  ...  0.997500  0.997489  0.995304   \n",
              "..        ...       ...       ...  ...       ...       ...       ...   \n",
              "245  0.883843  0.855298  0.906745  ...  0.814126  0.877108  0.881166   \n",
              "246  0.881566  0.852234  0.905152  ...  0.815984  0.871594  0.881804   \n",
              "247  0.882349  0.850682  0.904560  ...  0.813845  0.869152  0.879536   \n",
              "248  0.884186  0.852138  0.904176  ...  0.815856  0.863947  0.878924   \n",
              "249  0.885894  0.851997  0.898129  ...  0.811616  0.863363  0.884016   \n",
              "\n",
              "          993       994       995       996       997       998       999  \n",
              "0    1.000000  1.000000  1.000000  1.000000  1.000000  1.000000  1.000000  \n",
              "1    0.998912  1.003659  1.003412  1.000029  1.001980  0.997546  0.993352  \n",
              "2    1.004148  1.000777  1.002884  1.000490  1.006944  0.995096  0.998247  \n",
              "3    1.005131  0.998063  1.004866  1.001014  1.011290  0.999563  0.995444  \n",
              "4    1.005403  0.997786  1.000693  1.002850  1.011399  0.995623  0.989818  \n",
              "..        ...       ...       ...       ...       ...       ...       ...  \n",
              "245  0.876700  0.801545  0.819294  0.853787  0.893446  0.878671  0.933855  \n",
              "246  0.876961  0.796726  0.815544  0.856690  0.892563  0.879825  0.930506  \n",
              "247  0.877384  0.795026  0.818280  0.854482  0.888397  0.880620  0.928877  \n",
              "248  0.872820  0.795494  0.820323  0.853868  0.887803  0.881440  0.930435  \n",
              "249  0.869294  0.794623  0.817516  0.853843  0.891290  0.876808  0.933399  \n",
              "\n",
              "[250 rows x 1000 columns]"
            ],
            "text/html": [
              "\n",
              "  <div id=\"df-767d86aa-5d12-4b97-986c-d14fe0af82fc\">\n",
              "    <div class=\"colab-df-container\">\n",
              "      <div>\n",
              "<style scoped>\n",
              "    .dataframe tbody tr th:only-of-type {\n",
              "        vertical-align: middle;\n",
              "    }\n",
              "\n",
              "    .dataframe tbody tr th {\n",
              "        vertical-align: top;\n",
              "    }\n",
              "\n",
              "    .dataframe thead th {\n",
              "        text-align: right;\n",
              "    }\n",
              "</style>\n",
              "<table border=\"1\" class=\"dataframe\">\n",
              "  <thead>\n",
              "    <tr style=\"text-align: right;\">\n",
              "      <th></th>\n",
              "      <th>0</th>\n",
              "      <th>1</th>\n",
              "      <th>2</th>\n",
              "      <th>3</th>\n",
              "      <th>4</th>\n",
              "      <th>5</th>\n",
              "      <th>6</th>\n",
              "      <th>7</th>\n",
              "      <th>8</th>\n",
              "      <th>9</th>\n",
              "      <th>...</th>\n",
              "      <th>990</th>\n",
              "      <th>991</th>\n",
              "      <th>992</th>\n",
              "      <th>993</th>\n",
              "      <th>994</th>\n",
              "      <th>995</th>\n",
              "      <th>996</th>\n",
              "      <th>997</th>\n",
              "      <th>998</th>\n",
              "      <th>999</th>\n",
              "    </tr>\n",
              "  </thead>\n",
              "  <tbody>\n",
              "    <tr>\n",
              "      <th>0</th>\n",
              "      <td>1.000000</td>\n",
              "      <td>1.000000</td>\n",
              "      <td>1.000000</td>\n",
              "      <td>1.000000</td>\n",
              "      <td>1.000000</td>\n",
              "      <td>1.000000</td>\n",
              "      <td>1.000000</td>\n",
              "      <td>1.000000</td>\n",
              "      <td>1.000000</td>\n",
              "      <td>1.000000</td>\n",
              "      <td>...</td>\n",
              "      <td>1.000000</td>\n",
              "      <td>1.000000</td>\n",
              "      <td>1.000000</td>\n",
              "      <td>1.000000</td>\n",
              "      <td>1.000000</td>\n",
              "      <td>1.000000</td>\n",
              "      <td>1.000000</td>\n",
              "      <td>1.000000</td>\n",
              "      <td>1.000000</td>\n",
              "      <td>1.000000</td>\n",
              "    </tr>\n",
              "    <tr>\n",
              "      <th>1</th>\n",
              "      <td>1.001098</td>\n",
              "      <td>1.000802</td>\n",
              "      <td>0.996669</td>\n",
              "      <td>0.997056</td>\n",
              "      <td>1.005315</td>\n",
              "      <td>0.995548</td>\n",
              "      <td>1.004486</td>\n",
              "      <td>1.003252</td>\n",
              "      <td>1.003340</td>\n",
              "      <td>1.001382</td>\n",
              "      <td>...</td>\n",
              "      <td>1.006975</td>\n",
              "      <td>0.998988</td>\n",
              "      <td>0.994905</td>\n",
              "      <td>0.998912</td>\n",
              "      <td>1.003659</td>\n",
              "      <td>1.003412</td>\n",
              "      <td>1.000029</td>\n",
              "      <td>1.001980</td>\n",
              "      <td>0.997546</td>\n",
              "      <td>0.993352</td>\n",
              "    </tr>\n",
              "    <tr>\n",
              "      <th>2</th>\n",
              "      <td>1.000144</td>\n",
              "      <td>0.996227</td>\n",
              "      <td>0.991722</td>\n",
              "      <td>0.994583</td>\n",
              "      <td>1.006888</td>\n",
              "      <td>0.995152</td>\n",
              "      <td>1.010505</td>\n",
              "      <td>0.999743</td>\n",
              "      <td>1.005129</td>\n",
              "      <td>1.007286</td>\n",
              "      <td>...</td>\n",
              "      <td>1.003956</td>\n",
              "      <td>0.999666</td>\n",
              "      <td>0.996007</td>\n",
              "      <td>1.004148</td>\n",
              "      <td>1.000777</td>\n",
              "      <td>1.002884</td>\n",
              "      <td>1.000490</td>\n",
              "      <td>1.006944</td>\n",
              "      <td>0.995096</td>\n",
              "      <td>0.998247</td>\n",
              "    </tr>\n",
              "    <tr>\n",
              "      <th>3</th>\n",
              "      <td>1.001731</td>\n",
              "      <td>0.998679</td>\n",
              "      <td>0.994190</td>\n",
              "      <td>0.989571</td>\n",
              "      <td>1.004522</td>\n",
              "      <td>0.992176</td>\n",
              "      <td>1.016743</td>\n",
              "      <td>1.000006</td>\n",
              "      <td>1.005760</td>\n",
              "      <td>1.001700</td>\n",
              "      <td>...</td>\n",
              "      <td>1.002853</td>\n",
              "      <td>0.997347</td>\n",
              "      <td>0.996946</td>\n",
              "      <td>1.005131</td>\n",
              "      <td>0.998063</td>\n",
              "      <td>1.004866</td>\n",
              "      <td>1.001014</td>\n",
              "      <td>1.011290</td>\n",
              "      <td>0.999563</td>\n",
              "      <td>0.995444</td>\n",
              "    </tr>\n",
              "    <tr>\n",
              "      <th>4</th>\n",
              "      <td>1.006162</td>\n",
              "      <td>1.005041</td>\n",
              "      <td>0.999836</td>\n",
              "      <td>0.986123</td>\n",
              "      <td>1.005872</td>\n",
              "      <td>0.992422</td>\n",
              "      <td>1.020203</td>\n",
              "      <td>1.002653</td>\n",
              "      <td>1.008732</td>\n",
              "      <td>1.006437</td>\n",
              "      <td>...</td>\n",
              "      <td>0.997500</td>\n",
              "      <td>0.997489</td>\n",
              "      <td>0.995304</td>\n",
              "      <td>1.005403</td>\n",
              "      <td>0.997786</td>\n",
              "      <td>1.000693</td>\n",
              "      <td>1.002850</td>\n",
              "      <td>1.011399</td>\n",
              "      <td>0.995623</td>\n",
              "      <td>0.989818</td>\n",
              "    </tr>\n",
              "    <tr>\n",
              "      <th>...</th>\n",
              "      <td>...</td>\n",
              "      <td>...</td>\n",
              "      <td>...</td>\n",
              "      <td>...</td>\n",
              "      <td>...</td>\n",
              "      <td>...</td>\n",
              "      <td>...</td>\n",
              "      <td>...</td>\n",
              "      <td>...</td>\n",
              "      <td>...</td>\n",
              "      <td>...</td>\n",
              "      <td>...</td>\n",
              "      <td>...</td>\n",
              "      <td>...</td>\n",
              "      <td>...</td>\n",
              "      <td>...</td>\n",
              "      <td>...</td>\n",
              "      <td>...</td>\n",
              "      <td>...</td>\n",
              "      <td>...</td>\n",
              "      <td>...</td>\n",
              "    </tr>\n",
              "    <tr>\n",
              "      <th>245</th>\n",
              "      <td>0.879379</td>\n",
              "      <td>0.899981</td>\n",
              "      <td>0.837745</td>\n",
              "      <td>0.972213</td>\n",
              "      <td>0.991980</td>\n",
              "      <td>0.921288</td>\n",
              "      <td>0.943353</td>\n",
              "      <td>0.883843</td>\n",
              "      <td>0.855298</td>\n",
              "      <td>0.906745</td>\n",
              "      <td>...</td>\n",
              "      <td>0.814126</td>\n",
              "      <td>0.877108</td>\n",
              "      <td>0.881166</td>\n",
              "      <td>0.876700</td>\n",
              "      <td>0.801545</td>\n",
              "      <td>0.819294</td>\n",
              "      <td>0.853787</td>\n",
              "      <td>0.893446</td>\n",
              "      <td>0.878671</td>\n",
              "      <td>0.933855</td>\n",
              "    </tr>\n",
              "    <tr>\n",
              "      <th>246</th>\n",
              "      <td>0.877983</td>\n",
              "      <td>0.903963</td>\n",
              "      <td>0.837390</td>\n",
              "      <td>0.970944</td>\n",
              "      <td>0.990825</td>\n",
              "      <td>0.919180</td>\n",
              "      <td>0.948100</td>\n",
              "      <td>0.881566</td>\n",
              "      <td>0.852234</td>\n",
              "      <td>0.905152</td>\n",
              "      <td>...</td>\n",
              "      <td>0.815984</td>\n",
              "      <td>0.871594</td>\n",
              "      <td>0.881804</td>\n",
              "      <td>0.876961</td>\n",
              "      <td>0.796726</td>\n",
              "      <td>0.815544</td>\n",
              "      <td>0.856690</td>\n",
              "      <td>0.892563</td>\n",
              "      <td>0.879825</td>\n",
              "      <td>0.930506</td>\n",
              "    </tr>\n",
              "    <tr>\n",
              "      <th>247</th>\n",
              "      <td>0.876192</td>\n",
              "      <td>0.905079</td>\n",
              "      <td>0.838367</td>\n",
              "      <td>0.968315</td>\n",
              "      <td>0.988463</td>\n",
              "      <td>0.926339</td>\n",
              "      <td>0.947300</td>\n",
              "      <td>0.882349</td>\n",
              "      <td>0.850682</td>\n",
              "      <td>0.904560</td>\n",
              "      <td>...</td>\n",
              "      <td>0.813845</td>\n",
              "      <td>0.869152</td>\n",
              "      <td>0.879536</td>\n",
              "      <td>0.877384</td>\n",
              "      <td>0.795026</td>\n",
              "      <td>0.818280</td>\n",
              "      <td>0.854482</td>\n",
              "      <td>0.888397</td>\n",
              "      <td>0.880620</td>\n",
              "      <td>0.928877</td>\n",
              "    </tr>\n",
              "    <tr>\n",
              "      <th>248</th>\n",
              "      <td>0.873901</td>\n",
              "      <td>0.901593</td>\n",
              "      <td>0.835979</td>\n",
              "      <td>0.964697</td>\n",
              "      <td>0.984728</td>\n",
              "      <td>0.924183</td>\n",
              "      <td>0.946303</td>\n",
              "      <td>0.884186</td>\n",
              "      <td>0.852138</td>\n",
              "      <td>0.904176</td>\n",
              "      <td>...</td>\n",
              "      <td>0.815856</td>\n",
              "      <td>0.863947</td>\n",
              "      <td>0.878924</td>\n",
              "      <td>0.872820</td>\n",
              "      <td>0.795494</td>\n",
              "      <td>0.820323</td>\n",
              "      <td>0.853868</td>\n",
              "      <td>0.887803</td>\n",
              "      <td>0.881440</td>\n",
              "      <td>0.930435</td>\n",
              "    </tr>\n",
              "    <tr>\n",
              "      <th>249</th>\n",
              "      <td>0.878455</td>\n",
              "      <td>0.900582</td>\n",
              "      <td>0.836059</td>\n",
              "      <td>0.963332</td>\n",
              "      <td>0.982165</td>\n",
              "      <td>0.924265</td>\n",
              "      <td>0.946037</td>\n",
              "      <td>0.885894</td>\n",
              "      <td>0.851997</td>\n",
              "      <td>0.898129</td>\n",
              "      <td>...</td>\n",
              "      <td>0.811616</td>\n",
              "      <td>0.863363</td>\n",
              "      <td>0.884016</td>\n",
              "      <td>0.869294</td>\n",
              "      <td>0.794623</td>\n",
              "      <td>0.817516</td>\n",
              "      <td>0.853843</td>\n",
              "      <td>0.891290</td>\n",
              "      <td>0.876808</td>\n",
              "      <td>0.933399</td>\n",
              "    </tr>\n",
              "  </tbody>\n",
              "</table>\n",
              "<p>250 rows × 1000 columns</p>\n",
              "</div>\n",
              "      <button class=\"colab-df-convert\" onclick=\"convertToInteractive('df-767d86aa-5d12-4b97-986c-d14fe0af82fc')\"\n",
              "              title=\"Convert this dataframe to an interactive table.\"\n",
              "              style=\"display:none;\">\n",
              "        \n",
              "  <svg xmlns=\"http://www.w3.org/2000/svg\" height=\"24px\"viewBox=\"0 0 24 24\"\n",
              "       width=\"24px\">\n",
              "    <path d=\"M0 0h24v24H0V0z\" fill=\"none\"/>\n",
              "    <path d=\"M18.56 5.44l.94 2.06.94-2.06 2.06-.94-2.06-.94-.94-2.06-.94 2.06-2.06.94zm-11 1L8.5 8.5l.94-2.06 2.06-.94-2.06-.94L8.5 2.5l-.94 2.06-2.06.94zm10 10l.94 2.06.94-2.06 2.06-.94-2.06-.94-.94-2.06-.94 2.06-2.06.94z\"/><path d=\"M17.41 7.96l-1.37-1.37c-.4-.4-.92-.59-1.43-.59-.52 0-1.04.2-1.43.59L10.3 9.45l-7.72 7.72c-.78.78-.78 2.05 0 2.83L4 21.41c.39.39.9.59 1.41.59.51 0 1.02-.2 1.41-.59l7.78-7.78 2.81-2.81c.8-.78.8-2.07 0-2.86zM5.41 20L4 18.59l7.72-7.72 1.47 1.35L5.41 20z\"/>\n",
              "  </svg>\n",
              "      </button>\n",
              "      \n",
              "  <style>\n",
              "    .colab-df-container {\n",
              "      display:flex;\n",
              "      flex-wrap:wrap;\n",
              "      gap: 12px;\n",
              "    }\n",
              "\n",
              "    .colab-df-convert {\n",
              "      background-color: #E8F0FE;\n",
              "      border: none;\n",
              "      border-radius: 50%;\n",
              "      cursor: pointer;\n",
              "      display: none;\n",
              "      fill: #1967D2;\n",
              "      height: 32px;\n",
              "      padding: 0 0 0 0;\n",
              "      width: 32px;\n",
              "    }\n",
              "\n",
              "    .colab-df-convert:hover {\n",
              "      background-color: #E2EBFA;\n",
              "      box-shadow: 0px 1px 2px rgba(60, 64, 67, 0.3), 0px 1px 3px 1px rgba(60, 64, 67, 0.15);\n",
              "      fill: #174EA6;\n",
              "    }\n",
              "\n",
              "    [theme=dark] .colab-df-convert {\n",
              "      background-color: #3B4455;\n",
              "      fill: #D2E3FC;\n",
              "    }\n",
              "\n",
              "    [theme=dark] .colab-df-convert:hover {\n",
              "      background-color: #434B5C;\n",
              "      box-shadow: 0px 1px 3px 1px rgba(0, 0, 0, 0.15);\n",
              "      filter: drop-shadow(0px 1px 2px rgba(0, 0, 0, 0.3));\n",
              "      fill: #FFFFFF;\n",
              "    }\n",
              "  </style>\n",
              "\n",
              "      <script>\n",
              "        const buttonEl =\n",
              "          document.querySelector('#df-767d86aa-5d12-4b97-986c-d14fe0af82fc button.colab-df-convert');\n",
              "        buttonEl.style.display =\n",
              "          google.colab.kernel.accessAllowed ? 'block' : 'none';\n",
              "\n",
              "        async function convertToInteractive(key) {\n",
              "          const element = document.querySelector('#df-767d86aa-5d12-4b97-986c-d14fe0af82fc');\n",
              "          const dataTable =\n",
              "            await google.colab.kernel.invokeFunction('convertToInteractive',\n",
              "                                                     [key], {});\n",
              "          if (!dataTable) return;\n",
              "\n",
              "          const docLinkHtml = 'Like what you see? Visit the ' +\n",
              "            '<a target=\"_blank\" href=https://colab.research.google.com/notebooks/data_table.ipynb>data table notebook</a>'\n",
              "            + ' to learn more about interactive tables.';\n",
              "          element.innerHTML = '';\n",
              "          dataTable['output_type'] = 'display_data';\n",
              "          await google.colab.output.renderOutput(dataTable, element);\n",
              "          const docLink = document.createElement('div');\n",
              "          docLink.innerHTML = docLinkHtml;\n",
              "          element.appendChild(docLink);\n",
              "        }\n",
              "      </script>\n",
              "    </div>\n",
              "  </div>\n",
              "  "
            ]
          },
          "metadata": {},
          "execution_count": 32
        }
      ]
    },
    {
      "cell_type": "code",
      "source": [
        "import matplotlib.pyplot as plt\n",
        "\n",
        "plot_title = (f'{RISKY_ASSETS} Simulation ')\n",
        "\n",
        "gbm_simulations_df = pd.DataFrame(np.transpose(gbm_simulations))\n",
        "\n",
        "# plotting\n",
        "ax = gbm_simulations_df.plot(alpha=0.2, legend=False)\n",
        "line_1, = ax.plot(gbm_simulations_df.mean(axis=1),\n",
        "                  color='red')\n",
        "\n",
        "ax.set_title(plot_title, fontsize=16)\n",
        "\n",
        "plt.show()"
      ],
      "metadata": {
        "colab": {
          "base_uri": "https://localhost:8080/",
          "height": 283
        },
        "id": "ganMB6OKXJS4",
        "outputId": "b8bb0ce2-c984-4515-bb4f-800ac221afc3"
      },
      "execution_count": 33,
      "outputs": [
        {
          "output_type": "display_data",
          "data": {
            "text/plain": [
              "<Figure size 432x288 with 1 Axes>"
            ],
            "image/png": "[encoded data removed]"
          },
          "metadata": {
            "needs_background": "light"
          }
        }
      ]
    },
    {
      "cell_type": "markdown",
      "source": [
        "**Simulation2 : maximizing the returns(sharp ratio)**"
      ],
      "metadata": {
        "id": "hgp8LX64X1om"
      }
    },
    {
      "cell_type": "code",
      "source": [
        "shares = max_sharpe_portf_w\n",
        "shares"
      ],
      "metadata": {
        "colab": {
          "base_uri": "https://localhost:8080/"
        },
        "id": "QbfNSfLxYeGt",
        "outputId": "598eccba-a747-458a-85ee-a0997c82e1ec"
      },
      "execution_count": 34,
      "outputs": [
        {
          "output_type": "execute_result",
          "data": {
            "text/plain": [
              "array([1.66533454e-16, 0.00000000e+00, 1.00000000e+00])"
            ]
          },
          "metadata": {},
          "execution_count": 34
        }
      ]
    },
    {
      "cell_type": "code",
      "source": [
        "mu = np.matmul(avg_returns, shares)\n",
        "sigma = np.matmul(np.matmul(shares, cov_mat.values), shares.T)"
      ],
      "metadata": {
        "id": "8w9spg6AY1Zw"
      },
      "execution_count": 36,
      "outputs": []
    },
    {
      "cell_type": "code",
      "source": [
        "gbm_simulations = simulate_gbm(1, mu, sigma, N_SIM, T, N)\n",
        "gbm_simulations"
      ],
      "metadata": {
        "colab": {
          "base_uri": "https://localhost:8080/"
        },
        "id": "zqRNrL70u8xe",
        "outputId": "c1387430-5595-43f2-f848-6995c3196c68"
      },
      "execution_count": 37,
      "outputs": [
        {
          "output_type": "execute_result",
          "data": {
            "text/plain": [
              "array([[1.        , 1.00338515, 1.00353002, ..., 1.21998264, 1.21696113,\n",
              "        1.22899925],\n",
              "       [1.        , 1.00291632, 0.99734052, ..., 1.28400039, 1.27831754,\n",
              "        1.27816295],\n",
              "       [1.        , 0.99639425, 0.99023945, ..., 1.13798115, 1.13474401,\n",
              "        1.13678875],\n",
              "       ...,\n",
              "       [1.        , 1.00477819, 1.01431019, ..., 1.24688304, 1.24762559,\n",
              "        1.25743142],\n",
              "       [1.        , 0.99777708, 0.99555615, ..., 1.22971787, 1.23355552,\n",
              "        1.22536914],\n",
              "       [1.        , 0.99117099, 1.00053164, ..., 1.33763398, 1.34338702,\n",
              "        1.35236829]])"
            ]
          },
          "metadata": {},
          "execution_count": 37
        }
      ]
    },
    {
      "cell_type": "code",
      "source": [
        "plot_title = (f'{RISKY_ASSETS} Simulation ')\n",
        "gbm_simulations_df = pd.DataFrame(np.transpose(gbm_simulations))\n",
        "\n",
        "# plotting\n",
        "ax = gbm_simulations_df.plot(alpha=0.2, legend=False)\n",
        "line_1, = ax.plot(gbm_simulations_df.mean(axis=1),\n",
        "                  color='red')\n",
        "\n",
        "ax.set_title(plot_title, fontsize=16)\n",
        "plt.show()"
      ],
      "metadata": {
        "colab": {
          "base_uri": "https://localhost:8080/",
          "height": 283
        },
        "id": "NvV89FL8vBUW",
        "outputId": "5cc533d2-d797-422e-eae8-d19d7c2db47c"
      },
      "execution_count": 39,
      "outputs": [
        {
          "output_type": "display_data",
          "data": {
            "text/plain": [
              "<Figure size 432x288 with 1 Axes>"
            ],
            "image/png": "[encoded data removed]"
          },
          "metadata": {
            "needs_background": "light"
          }
        }
      ]
    },
    {
      "cell_type": "code",
      "source": [],
      "metadata": {
        "id": "Gvrcenk1vEH3"
      },
      "execution_count": null,
      "outputs": []
    }
  ]
}